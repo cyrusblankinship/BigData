{
 "cells": [
  {
   "cell_type": "markdown",
   "metadata": {},
   "source": [
    "# Homework 2 - Higher Order Functions (10 pts)\n",
    "\n",
    "In this homework, we will practice Python's higher order functions. Please note that you may only use higher order functions **without access to global variables**. Your expression should contain only **map()**, **filter()**, **sorted**, **reduce()** and your custom functions.\n",
    "\n",
    "You are required to turn in this notebook with all the parts filled in between <>. Your notebook must be named BDM\\_HW2\\_HOF_NetID.ipynb.\n",
    "\n",
    "We will be using the provided the Graduation Outcomes data set for cohorts from 2001 through 2006 (Classes of 2005 through 2010) from the NYC Department of Education (the data handle on NYC Open Data is **avir-tzek**). The data is available on online as **nyc_grads.csv**."
   ]
  },
  {
   "cell_type": "markdown",
   "metadata": {},
   "source": [
    "#### The first ten records of the data are shown below. Please note, the data are sorted by \"Demographics\", then \"Borough\", then \"Cohort\"."
   ]
  },
  {
   "cell_type": "code",
   "execution_count": 1,
   "metadata": {},
   "outputs": [
    {
     "data": {
      "text/html": [
       "<div>\n",
       "<table border=\"1\" class=\"dataframe\">\n",
       "  <thead>\n",
       "    <tr style=\"text-align: right;\">\n",
       "      <th></th>\n",
       "      <th>Demographic</th>\n",
       "      <th>Borough</th>\n",
       "      <th>Cohort</th>\n",
       "      <th>Total Cohort</th>\n",
       "      <th>Grads</th>\n",
       "      <th>Regents</th>\n",
       "      <th>Advanced Regents</th>\n",
       "      <th>Local</th>\n",
       "      <th>Dropped Out</th>\n",
       "    </tr>\n",
       "  </thead>\n",
       "  <tbody>\n",
       "    <tr>\n",
       "      <th>0</th>\n",
       "      <td>Borough Total</td>\n",
       "      <td>Bronx</td>\n",
       "      <td>2001</td>\n",
       "      <td>11453</td>\n",
       "      <td>4913</td>\n",
       "      <td>2644</td>\n",
       "      <td>998</td>\n",
       "      <td>2271</td>\n",
       "      <td>2438</td>\n",
       "    </tr>\n",
       "    <tr>\n",
       "      <th>1</th>\n",
       "      <td>Borough Total</td>\n",
       "      <td>Bronx</td>\n",
       "      <td>2002</td>\n",
       "      <td>12032</td>\n",
       "      <td>5328</td>\n",
       "      <td>3118</td>\n",
       "      <td>992</td>\n",
       "      <td>2217</td>\n",
       "      <td>2140</td>\n",
       "    </tr>\n",
       "    <tr>\n",
       "      <th>2</th>\n",
       "      <td>Borough Total</td>\n",
       "      <td>Bronx</td>\n",
       "      <td>2003</td>\n",
       "      <td>13632</td>\n",
       "      <td>6389</td>\n",
       "      <td>3861</td>\n",
       "      <td>1255</td>\n",
       "      <td>2528</td>\n",
       "      <td>2472</td>\n",
       "    </tr>\n",
       "    <tr>\n",
       "      <th>3</th>\n",
       "      <td>Borough Total</td>\n",
       "      <td>Bronx</td>\n",
       "      <td>2004</td>\n",
       "      <td>14364</td>\n",
       "      <td>7448</td>\n",
       "      <td>4625</td>\n",
       "      <td>1395</td>\n",
       "      <td>2823</td>\n",
       "      <td>2303</td>\n",
       "    </tr>\n",
       "    <tr>\n",
       "      <th>4</th>\n",
       "      <td>Borough Total</td>\n",
       "      <td>Bronx</td>\n",
       "      <td>2005</td>\n",
       "      <td>15175</td>\n",
       "      <td>8229</td>\n",
       "      <td>5618</td>\n",
       "      <td>1544</td>\n",
       "      <td>2611</td>\n",
       "      <td>2147</td>\n",
       "    </tr>\n",
       "    <tr>\n",
       "      <th>5</th>\n",
       "      <td>Borough Total</td>\n",
       "      <td>Bronx</td>\n",
       "      <td>2006</td>\n",
       "      <td>15579</td>\n",
       "      <td>8524</td>\n",
       "      <td>6312</td>\n",
       "      <td>1558</td>\n",
       "      <td>2212</td>\n",
       "      <td>2402</td>\n",
       "    </tr>\n",
       "    <tr>\n",
       "      <th>6</th>\n",
       "      <td>Borough Total</td>\n",
       "      <td>Brooklyn</td>\n",
       "      <td>2001</td>\n",
       "      <td>19961</td>\n",
       "      <td>9758</td>\n",
       "      <td>6177</td>\n",
       "      <td>2829</td>\n",
       "      <td>3591</td>\n",
       "      <td>3547</td>\n",
       "    </tr>\n",
       "    <tr>\n",
       "      <th>7</th>\n",
       "      <td>Borough Total</td>\n",
       "      <td>Brooklyn</td>\n",
       "      <td>2002</td>\n",
       "      <td>20808</td>\n",
       "      <td>10337</td>\n",
       "      <td>7050</td>\n",
       "      <td>2865</td>\n",
       "      <td>3298</td>\n",
       "      <td>3369</td>\n",
       "    </tr>\n",
       "    <tr>\n",
       "      <th>8</th>\n",
       "      <td>Borough Total</td>\n",
       "      <td>Brooklyn</td>\n",
       "      <td>2003</td>\n",
       "      <td>21334</td>\n",
       "      <td>11064</td>\n",
       "      <td>7711</td>\n",
       "      <td>3239</td>\n",
       "      <td>3353</td>\n",
       "      <td>3198</td>\n",
       "    </tr>\n",
       "    <tr>\n",
       "      <th>9</th>\n",
       "      <td>Borough Total</td>\n",
       "      <td>Brooklyn</td>\n",
       "      <td>2004</td>\n",
       "      <td>22353</td>\n",
       "      <td>12303</td>\n",
       "      <td>8872</td>\n",
       "      <td>3741</td>\n",
       "      <td>3431</td>\n",
       "      <td>2973</td>\n",
       "    </tr>\n",
       "  </tbody>\n",
       "</table>\n",
       "</div>"
      ],
      "text/plain": [
       "     Demographic   Borough  Cohort  Total Cohort  Grads  Regents  \\\n",
       "0  Borough Total     Bronx    2001         11453   4913     2644   \n",
       "1  Borough Total     Bronx    2002         12032   5328     3118   \n",
       "2  Borough Total     Bronx    2003         13632   6389     3861   \n",
       "3  Borough Total     Bronx    2004         14364   7448     4625   \n",
       "4  Borough Total     Bronx    2005         15175   8229     5618   \n",
       "5  Borough Total     Bronx    2006         15579   8524     6312   \n",
       "6  Borough Total  Brooklyn    2001         19961   9758     6177   \n",
       "7  Borough Total  Brooklyn    2002         20808  10337     7050   \n",
       "8  Borough Total  Brooklyn    2003         21334  11064     7711   \n",
       "9  Borough Total  Brooklyn    2004         22353  12303     8872   \n",
       "\n",
       "   Advanced Regents  Local  Dropped Out  \n",
       "0               998   2271         2438  \n",
       "1               992   2217         2140  \n",
       "2              1255   2528         2472  \n",
       "3              1395   2823         2303  \n",
       "4              1544   2611         2147  \n",
       "5              1558   2212         2402  \n",
       "6              2829   3591         3547  \n",
       "7              2865   3298         3369  \n",
       "8              3239   3353         3198  \n",
       "9              3741   3431         2973  "
      ]
     },
     "execution_count": 1,
     "metadata": {},
     "output_type": "execute_result"
    }
   ],
   "source": [
    "DO NOT RUN THIS CELL"
   ]
  },
  {
   "cell_type": "code",
   "execution_count": 1,
   "metadata": {},
   "outputs": [],
   "source": [
    "import csv\n",
    "from functools import reduce"
   ]
  },
  {
   "cell_type": "markdown",
   "metadata": {},
   "source": [
    "## Task 1 (3 points)\n",
    "\n",
    "In this data set, we would like to inspect whether there is a correlation between the dropped out percentage and the percentage of students graduated with advanced regents for schools in NYC. Thus, we must compute the ratio of **Dropped Out** and **Advanced Regents** for each borough, and for each year by dividing them by the **Total Cohort** value. Thus, the only useful records for us are those with the **Demographic** value equals to **'Borough Total'**, aka. you must filter the data to this type of demographic first.\n",
    "\n",
    "Please complete the HOF expression below to transform each input record into a tuple of only 4 elements: **Borough**, **Cohort**, **Ratio_Advanced**, **Ratio_Dropped**. Note that, your expression must user **reader** as input. Though you are encouraged to write your helper functions (instead of lambdas) to make your expression concise, global variables are absolutely not allowed. No exception. The output must be exactly as below."
   ]
  },
  {
   "cell_type": "code",
   "execution_count": 6,
   "metadata": {},
   "outputs": [
    {
     "data": {
      "text/plain": [
       "[('Bronx', '2001', 0.08713874094123811, 0.21286999039552956),\n",
       " ('Bronx', '2002', 0.08244680851063829, 0.1778590425531915),\n",
       " ('Bronx', '2003', 0.09206279342723005, 0.1813380281690141),\n",
       " ('Bronx', '2004', 0.09711779448621553, 0.16033138401559455),\n",
       " ('Bronx', '2005', 0.10174629324546952, 0.1414827018121911),\n",
       " ('Bronx', '2006', 0.10000641889723345, 0.1541819115475961),\n",
       " ('Brooklyn', '2001', 0.14172636641450828, 0.1776965081909724),\n",
       " ('Brooklyn', '2002', 0.1376874279123414, 0.16190888119953864),\n",
       " ('Brooklyn', '2003', 0.15182338051935876, 0.14990156557607576),\n",
       " ('Brooklyn', '2004', 0.1673600858945108, 0.13300228157294322),\n",
       " ('Brooklyn', '2005', 0.16201692714164168, 0.11544489722806861),\n",
       " ('Brooklyn', '2006', 0.1676060783694819, 0.12314560129864274),\n",
       " ('Manhattan', '2001', 0.14609313338595106, 0.1548539857932123),\n",
       " ('Manhattan', '2002', 0.13904776052885687, 0.1294659436975414),\n",
       " ('Manhattan', '2003', 0.18207363642913754, 0.1245766986094099),\n",
       " ('Manhattan', '2004', 0.18582666754809282, 0.12176902227804588),\n",
       " ('Manhattan', '2005', 0.1687180458246544, 0.10080161585558291),\n",
       " ('Manhattan', '2006', 0.16940789473684212, 0.10258284600389864),\n",
       " ('Queens', '2001', 0.15836811474927986, 0.15848568573276114),\n",
       " ('Queens', '2002', 0.15534990691052458, 0.15419997809659403),\n",
       " ('Queens', '2003', 0.18436057561770297, 0.14759706760792832),\n",
       " ('Queens', '2004', 0.19246995994659546, 0.13377837116154873),\n",
       " ('Queens', '2005', 0.1854338578237917, 0.12480139408538773),\n",
       " ('Queens', '2006', 0.18595970958175684, 0.11534921771142244),\n",
       " ('Staten Island', '2001', 0.2262396694214876, 0.10769628099173553),\n",
       " ('Staten Island', '2002', 0.20827285921625543, 0.10304789550072568),\n",
       " ('Staten Island', '2003', 0.20934091986723566, 0.08866761498340446),\n",
       " ('Staten Island', '2004', 0.248430709802028, 0.09198454852728151),\n",
       " ('Staten Island', '2005', 0.2374439461883408, 0.08116591928251121),\n",
       " ('Staten Island', '2006', 0.25896154681729305, 0.08994134260265045)]"
      ]
     },
     "execution_count": 6,
     "metadata": {},
     "output_type": "execute_result"
    }
   ],
   "source": [
    "# Borough, Cohort\n",
    "def mapper1(x):\n",
    "    return (x['Borough'], x['Cohort'],\n",
    "            int(x['Advanced Regents'])/int(x['Total Cohort']),\n",
    "            int(x['Dropped Out'])/int(x['Total Cohort']))\n",
    "\n",
    "def filter1(x):\n",
    "    return( x['Demographic'] == 'Borough Total')       \n",
    "\n",
    "with open('../../Data/nyc_grads.csv', 'r') as fi:\n",
    "    reader = csv.DictReader(fi)\n",
    "    output1 = list(sorted(map(mapper1, filter(filter1, reader))))\n",
    "output1"
   ]
  },
  {
   "cell_type": "markdown",
   "metadata": {},
   "source": [
    "\n",
    "## Task 2 (3 points)\n",
    "\n",
    "Now given *output1* from Task 1, we need to compute the average ratio of dropped out and advanced regents per borough (i.e. averaging the numbers from 2001 to 2006 for each borough). Please complete the HOF expression below. Your output should be similar to the one provided. Your input is **output1**.\n",
    "\n",
    "Note: If you could not finish Task 1, you could use the output information above as input to your Task 2. Please try to use the least memory possible for this task."
   ]
  },
  {
   "cell_type": "code",
   "execution_count": 3,
   "metadata": {},
   "outputs": [
    {
     "data": {
      "text/plain": [
       "[('Bronx', 0.0934198082513375, 0.17134384308218617),\n",
       " ('Brooklyn', 0.15470337770864048, 0.14351662251104022),\n",
       " ('Manhattan', 0.16519452307558916, 0.1223416853729485),\n",
       " ('Queens', 0.1769903541049419, 0.13903528573260707),\n",
       " ('Staten Island', 0.23144827521877342, 0.09375060031471814)]"
      ]
     },
     "execution_count": 3,
     "metadata": {},
     "output_type": "execute_result"
    }
   ],
   "source": [
    "def reducer2(x,y):\n",
    "    value = x.get(y[0], {\n",
    "        'count': 0,\n",
    "        'sum': 0,\n",
    "        'sum2':0\n",
    "    })    \n",
    "    value['count'] += 1\n",
    "    value['sum'] += y[2]\n",
    "    value['sum2'] += y[3]    \n",
    "    x[y[0]] = value\n",
    "    return x\n",
    "\n",
    "def mapper2(x):    \n",
    "    return(x[0], x[1]['sum']/x[1]['count'], x[1]['sum2']/x[1]['count'])\n",
    "\n",
    "\n",
    "output2 =list(map(mapper2, reduce(reducer2, output1, {}).items()))\n",
    "\n",
    "output2"
   ]
  },
  {
   "cell_type": "markdown",
   "metadata": {},
   "source": [
    "\n",
    "## Task 3 (4 points)\n",
    "\n",
    "In this task, you are asked to complete Homework 1 using only map(), filter(), reduce(), and/or sorted() higher-order functions. Note that, instead of writing to a CSV file, the output can be printed in the notebook, similar to what presented below (some differences in the output format are tolerable)."
   ]
  },
  {
   "cell_type": "code",
   "execution_count": 4,
   "metadata": {},
   "outputs": [
    {
     "data": {
      "text/plain": [
       "[('P02291', 16, 1181.9700000000007),\n",
       " ('P19498', 17, 989.9900000000007),\n",
       " ('P32565', 17, 1006.0900000000007),\n",
       " ('P33162', 18, 1210.9200000000008),\n",
       " ('P39328', 17, 1129.0100000000007),\n",
       " ('P58225', 17, 1349.8200000000008),\n",
       " ('P61235', 18, 959.0200000000007),\n",
       " ('P76615', 18, 1087.9600000000007),\n",
       " ('P82222', 17, 950.0500000000006),\n",
       " ('P92449', 14, 966.1700000000006)]"
      ]
     },
     "execution_count": 4,
     "metadata": {},
     "output_type": "execute_result"
    }
   ],
   "source": [
    "def reducer3(x,y):\n",
    "    productID = y['Product ID']\n",
    "    cost = float(y['Item Cost'])\n",
    "    customer = y['Customer ID']      \n",
    "    value = x.get(productID, {\n",
    "        'cost': 0,\n",
    "        'count': 0,\n",
    "        'customer': 0,\n",
    "    })    \n",
    "    value['cost'] += cost    \n",
    "    if value['customer']!= customer:\n",
    "        value['count']+=1\n",
    "        value['customer'] = customer        \n",
    "    x[productID] = value\n",
    "    return (x)\n",
    "\n",
    "def mapper3(x):\n",
    "    return x[0], x[1]['count'], x[1]['cost']\n",
    "\n",
    "with open('../../Data/sale.csv', 'r') as fi:\n",
    "    reader = csv.DictReader(fi)\n",
    "    output3 = list(map(mapper3, sorted(reduce(reducer3, reader, {}).items())))\n",
    "\n",
    "output3"
   ]
  }
 ],
 "metadata": {
  "kernelspec": {
   "display_name": "Python 3",
   "language": "python",
   "name": "python3"
  },
  "language_info": {
   "codemirror_mode": {
    "name": "ipython",
    "version": 3
   },
   "file_extension": ".py",
   "mimetype": "text/x-python",
   "name": "python",
   "nbconvert_exporter": "python",
   "pygments_lexer": "ipython3",
   "version": "3.7.1"
  }
 },
 "nbformat": 4,
 "nbformat_minor": 2
}
